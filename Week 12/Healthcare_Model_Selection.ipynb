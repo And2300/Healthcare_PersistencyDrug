{
  "nbformat": 4,
  "nbformat_minor": 0,
  "metadata": {
    "colab": {
      "name": "Healthcare_Model_Selection.ipynb",
      "provenance": [],
      "collapsed_sections": []
    },
    "kernelspec": {
      "name": "python3",
      "display_name": "Python 3"
    },
    "language_info": {
      "name": "python"
    }
  },
  "cells": [
    {
      "cell_type": "code",
      "source": [
        "import numpy as np\n",
        "import matplotlib.pyplot as plt\n",
        "import pandas as pd\n",
        "import seaborn as sns\n",
        "from sklearn.metrics import accuracy_score, confusion_matrix, classification_report \n",
        "from xgboost import XGBRegressor\n",
        "from sklearn.model_selection import train_test_split, GridSearchCV, RandomizedSearchCV, KFold\n",
        "from sklearn.metrics import ConfusionMatrixDisplay"
      ],
      "metadata": {
        "id": "Urpj5ByeIFir"
      },
      "execution_count": 89,
      "outputs": []
    },
    {
      "cell_type": "markdown",
      "source": [
        "# DATA"
      ],
      "metadata": {
        "id": "F2tmOb1x-XR4"
      }
    },
    {
      "cell_type": "code",
      "execution_count": 2,
      "metadata": {
        "colab": {
          "base_uri": "https://localhost:8080/",
          "height": 299
        },
        "id": "FtoO1Kno-Ss5",
        "outputId": "3f33efd2-fa0a-4dad-846e-11f5da020e38"
      },
      "outputs": [
        {
          "output_type": "execute_result",
          "data": {
            "text/plain": [
              "   Persistency_Flag  Gender  Race  Ethnicity  Region  Age_Bucket  \\\n",
              "0                 1       1     2          1       4           3   \n",
              "1                 0       1     1          1       4           0   \n",
              "2                 0       0     2          0       0           1   \n",
              "3                 0       0     2          1       0           3   \n",
              "4                 0       0     2          1       0           3   \n",
              "\n",
              "   Ntm_Speciality  Ntm_Specialist_Flag  Ntm_Speciality_Bucket  \\\n",
              "0               5                    0                      1   \n",
              "1               5                    0                      1   \n",
              "2               5                    0                      1   \n",
              "3               5                    0                      1   \n",
              "4               5                    0                      1   \n",
              "\n",
              "   Gluco_Record_Prior_Ntm  ...  Risk_Family_History_Of_Osteoporosis  \\\n",
              "0                       0  ...                                    0   \n",
              "1                       0  ...                                    0   \n",
              "2                       0  ...                                    0   \n",
              "3                       0  ...                                    0   \n",
              "4                       1  ...                                    0   \n",
              "\n",
              "   Risk_Low_Calcium_Intake  Risk_Vitamin_D_Insufficiency  \\\n",
              "0                        0                             0   \n",
              "1                        0                             0   \n",
              "2                        1                             0   \n",
              "3                        0                             0   \n",
              "4                        0                             0   \n",
              "\n",
              "   Risk_Poor_Health_Frailty  Risk_Excessive_Thinness  \\\n",
              "0                         0                        0   \n",
              "1                         0                        0   \n",
              "2                         0                        0   \n",
              "3                         0                        0   \n",
              "4                         0                        0   \n",
              "\n",
              "   Risk_Hysterectomy_Oophorectomy  Risk_Estrogen_Deficiency  \\\n",
              "0                               0                         0   \n",
              "1                               0                         0   \n",
              "2                               0                         0   \n",
              "3                               0                         0   \n",
              "4                               0                         0   \n",
              "\n",
              "   Risk_Immobilization  Risk_Recurring_Falls  Count_Of_Risks  \n",
              "0                    0                     0               0  \n",
              "1                    0                     0               0  \n",
              "2                    0                     0               2  \n",
              "3                    0                     0               1  \n",
              "4                    0                     0               1  \n",
              "\n",
              "[5 rows x 64 columns]"
            ],
            "text/html": [
              "\n",
              "  <div id=\"df-9f7d9b13-56e5-43ca-bc96-3036b809a4c0\">\n",
              "    <div class=\"colab-df-container\">\n",
              "      <div>\n",
              "<style scoped>\n",
              "    .dataframe tbody tr th:only-of-type {\n",
              "        vertical-align: middle;\n",
              "    }\n",
              "\n",
              "    .dataframe tbody tr th {\n",
              "        vertical-align: top;\n",
              "    }\n",
              "\n",
              "    .dataframe thead th {\n",
              "        text-align: right;\n",
              "    }\n",
              "</style>\n",
              "<table border=\"1\" class=\"dataframe\">\n",
              "  <thead>\n",
              "    <tr style=\"text-align: right;\">\n",
              "      <th></th>\n",
              "      <th>Persistency_Flag</th>\n",
              "      <th>Gender</th>\n",
              "      <th>Race</th>\n",
              "      <th>Ethnicity</th>\n",
              "      <th>Region</th>\n",
              "      <th>Age_Bucket</th>\n",
              "      <th>Ntm_Speciality</th>\n",
              "      <th>Ntm_Specialist_Flag</th>\n",
              "      <th>Ntm_Speciality_Bucket</th>\n",
              "      <th>Gluco_Record_Prior_Ntm</th>\n",
              "      <th>...</th>\n",
              "      <th>Risk_Family_History_Of_Osteoporosis</th>\n",
              "      <th>Risk_Low_Calcium_Intake</th>\n",
              "      <th>Risk_Vitamin_D_Insufficiency</th>\n",
              "      <th>Risk_Poor_Health_Frailty</th>\n",
              "      <th>Risk_Excessive_Thinness</th>\n",
              "      <th>Risk_Hysterectomy_Oophorectomy</th>\n",
              "      <th>Risk_Estrogen_Deficiency</th>\n",
              "      <th>Risk_Immobilization</th>\n",
              "      <th>Risk_Recurring_Falls</th>\n",
              "      <th>Count_Of_Risks</th>\n",
              "    </tr>\n",
              "  </thead>\n",
              "  <tbody>\n",
              "    <tr>\n",
              "      <th>0</th>\n",
              "      <td>1</td>\n",
              "      <td>1</td>\n",
              "      <td>2</td>\n",
              "      <td>1</td>\n",
              "      <td>4</td>\n",
              "      <td>3</td>\n",
              "      <td>5</td>\n",
              "      <td>0</td>\n",
              "      <td>1</td>\n",
              "      <td>0</td>\n",
              "      <td>...</td>\n",
              "      <td>0</td>\n",
              "      <td>0</td>\n",
              "      <td>0</td>\n",
              "      <td>0</td>\n",
              "      <td>0</td>\n",
              "      <td>0</td>\n",
              "      <td>0</td>\n",
              "      <td>0</td>\n",
              "      <td>0</td>\n",
              "      <td>0</td>\n",
              "    </tr>\n",
              "    <tr>\n",
              "      <th>1</th>\n",
              "      <td>0</td>\n",
              "      <td>1</td>\n",
              "      <td>1</td>\n",
              "      <td>1</td>\n",
              "      <td>4</td>\n",
              "      <td>0</td>\n",
              "      <td>5</td>\n",
              "      <td>0</td>\n",
              "      <td>1</td>\n",
              "      <td>0</td>\n",
              "      <td>...</td>\n",
              "      <td>0</td>\n",
              "      <td>0</td>\n",
              "      <td>0</td>\n",
              "      <td>0</td>\n",
              "      <td>0</td>\n",
              "      <td>0</td>\n",
              "      <td>0</td>\n",
              "      <td>0</td>\n",
              "      <td>0</td>\n",
              "      <td>0</td>\n",
              "    </tr>\n",
              "    <tr>\n",
              "      <th>2</th>\n",
              "      <td>0</td>\n",
              "      <td>0</td>\n",
              "      <td>2</td>\n",
              "      <td>0</td>\n",
              "      <td>0</td>\n",
              "      <td>1</td>\n",
              "      <td>5</td>\n",
              "      <td>0</td>\n",
              "      <td>1</td>\n",
              "      <td>0</td>\n",
              "      <td>...</td>\n",
              "      <td>0</td>\n",
              "      <td>1</td>\n",
              "      <td>0</td>\n",
              "      <td>0</td>\n",
              "      <td>0</td>\n",
              "      <td>0</td>\n",
              "      <td>0</td>\n",
              "      <td>0</td>\n",
              "      <td>0</td>\n",
              "      <td>2</td>\n",
              "    </tr>\n",
              "    <tr>\n",
              "      <th>3</th>\n",
              "      <td>0</td>\n",
              "      <td>0</td>\n",
              "      <td>2</td>\n",
              "      <td>1</td>\n",
              "      <td>0</td>\n",
              "      <td>3</td>\n",
              "      <td>5</td>\n",
              "      <td>0</td>\n",
              "      <td>1</td>\n",
              "      <td>0</td>\n",
              "      <td>...</td>\n",
              "      <td>0</td>\n",
              "      <td>0</td>\n",
              "      <td>0</td>\n",
              "      <td>0</td>\n",
              "      <td>0</td>\n",
              "      <td>0</td>\n",
              "      <td>0</td>\n",
              "      <td>0</td>\n",
              "      <td>0</td>\n",
              "      <td>1</td>\n",
              "    </tr>\n",
              "    <tr>\n",
              "      <th>4</th>\n",
              "      <td>0</td>\n",
              "      <td>0</td>\n",
              "      <td>2</td>\n",
              "      <td>1</td>\n",
              "      <td>0</td>\n",
              "      <td>3</td>\n",
              "      <td>5</td>\n",
              "      <td>0</td>\n",
              "      <td>1</td>\n",
              "      <td>1</td>\n",
              "      <td>...</td>\n",
              "      <td>0</td>\n",
              "      <td>0</td>\n",
              "      <td>0</td>\n",
              "      <td>0</td>\n",
              "      <td>0</td>\n",
              "      <td>0</td>\n",
              "      <td>0</td>\n",
              "      <td>0</td>\n",
              "      <td>0</td>\n",
              "      <td>1</td>\n",
              "    </tr>\n",
              "  </tbody>\n",
              "</table>\n",
              "<p>5 rows × 64 columns</p>\n",
              "</div>\n",
              "      <button class=\"colab-df-convert\" onclick=\"convertToInteractive('df-9f7d9b13-56e5-43ca-bc96-3036b809a4c0')\"\n",
              "              title=\"Convert this dataframe to an interactive table.\"\n",
              "              style=\"display:none;\">\n",
              "        \n",
              "  <svg xmlns=\"http://www.w3.org/2000/svg\" height=\"24px\"viewBox=\"0 0 24 24\"\n",
              "       width=\"24px\">\n",
              "    <path d=\"M0 0h24v24H0V0z\" fill=\"none\"/>\n",
              "    <path d=\"M18.56 5.44l.94 2.06.94-2.06 2.06-.94-2.06-.94-.94-2.06-.94 2.06-2.06.94zm-11 1L8.5 8.5l.94-2.06 2.06-.94-2.06-.94L8.5 2.5l-.94 2.06-2.06.94zm10 10l.94 2.06.94-2.06 2.06-.94-2.06-.94-.94-2.06-.94 2.06-2.06.94z\"/><path d=\"M17.41 7.96l-1.37-1.37c-.4-.4-.92-.59-1.43-.59-.52 0-1.04.2-1.43.59L10.3 9.45l-7.72 7.72c-.78.78-.78 2.05 0 2.83L4 21.41c.39.39.9.59 1.41.59.51 0 1.02-.2 1.41-.59l7.78-7.78 2.81-2.81c.8-.78.8-2.07 0-2.86zM5.41 20L4 18.59l7.72-7.72 1.47 1.35L5.41 20z\"/>\n",
              "  </svg>\n",
              "      </button>\n",
              "      \n",
              "  <style>\n",
              "    .colab-df-container {\n",
              "      display:flex;\n",
              "      flex-wrap:wrap;\n",
              "      gap: 12px;\n",
              "    }\n",
              "\n",
              "    .colab-df-convert {\n",
              "      background-color: #E8F0FE;\n",
              "      border: none;\n",
              "      border-radius: 50%;\n",
              "      cursor: pointer;\n",
              "      display: none;\n",
              "      fill: #1967D2;\n",
              "      height: 32px;\n",
              "      padding: 0 0 0 0;\n",
              "      width: 32px;\n",
              "    }\n",
              "\n",
              "    .colab-df-convert:hover {\n",
              "      background-color: #E2EBFA;\n",
              "      box-shadow: 0px 1px 2px rgba(60, 64, 67, 0.3), 0px 1px 3px 1px rgba(60, 64, 67, 0.15);\n",
              "      fill: #174EA6;\n",
              "    }\n",
              "\n",
              "    [theme=dark] .colab-df-convert {\n",
              "      background-color: #3B4455;\n",
              "      fill: #D2E3FC;\n",
              "    }\n",
              "\n",
              "    [theme=dark] .colab-df-convert:hover {\n",
              "      background-color: #434B5C;\n",
              "      box-shadow: 0px 1px 3px 1px rgba(0, 0, 0, 0.15);\n",
              "      filter: drop-shadow(0px 1px 2px rgba(0, 0, 0, 0.3));\n",
              "      fill: #FFFFFF;\n",
              "    }\n",
              "  </style>\n",
              "\n",
              "      <script>\n",
              "        const buttonEl =\n",
              "          document.querySelector('#df-9f7d9b13-56e5-43ca-bc96-3036b809a4c0 button.colab-df-convert');\n",
              "        buttonEl.style.display =\n",
              "          google.colab.kernel.accessAllowed ? 'block' : 'none';\n",
              "\n",
              "        async function convertToInteractive(key) {\n",
              "          const element = document.querySelector('#df-9f7d9b13-56e5-43ca-bc96-3036b809a4c0');\n",
              "          const dataTable =\n",
              "            await google.colab.kernel.invokeFunction('convertToInteractive',\n",
              "                                                     [key], {});\n",
              "          if (!dataTable) return;\n",
              "\n",
              "          const docLinkHtml = 'Like what you see? Visit the ' +\n",
              "            '<a target=\"_blank\" href=https://colab.research.google.com/notebooks/data_table.ipynb>data table notebook</a>'\n",
              "            + ' to learn more about interactive tables.';\n",
              "          element.innerHTML = '';\n",
              "          dataTable['output_type'] = 'display_data';\n",
              "          await google.colab.output.renderOutput(dataTable, element);\n",
              "          const docLink = document.createElement('div');\n",
              "          docLink.innerHTML = docLinkHtml;\n",
              "          element.appendChild(docLink);\n",
              "        }\n",
              "      </script>\n",
              "    </div>\n",
              "  </div>\n",
              "  "
            ]
          },
          "metadata": {},
          "execution_count": 2
        }
      ],
      "source": [
        "dfct = pd.read_csv('healthcare_clean_transf_data.csv') #dff.copy()\n",
        "dfct.head()"
      ]
    },
    {
      "cell_type": "code",
      "source": [
        "X = dfct.drop('Persistency_Flag', axis=1)\n",
        "y = dfct['Persistency_Flag']"
      ],
      "metadata": {
        "id": "KjTO22gs-YVv"
      },
      "execution_count": 3,
      "outputs": []
    },
    {
      "cell_type": "code",
      "source": [
        "model = XGBRegressor()\n",
        "model.fit(X, y)\n",
        "\n",
        "(pd.Series(model.feature_importances_, index=X.columns)\n",
        "   .nlargest(30)\n",
        "   .plot(kind='barh'))"
      ],
      "metadata": {
        "colab": {
          "base_uri": "https://localhost:8080/",
          "height": 301
        },
        "id": "bDA7kZyr-YZN",
        "outputId": "f0759a65-7587-43a2-c000-a8fd015925c8"
      },
      "execution_count": 5,
      "outputs": [
        {
          "output_type": "stream",
          "name": "stdout",
          "text": [
            "[05:15:30] WARNING: /workspace/src/objective/regression_obj.cu:152: reg:linear is now deprecated in favor of reg:squarederror.\n"
          ]
        },
        {
          "output_type": "execute_result",
          "data": {
            "text/plain": [
              "<matplotlib.axes._subplots.AxesSubplot at 0x7fbd275934d0>"
            ]
          },
          "metadata": {},
          "execution_count": 5
        },
        {
          "output_type": "display_data",
          "data": {
            "text/plain": [
              "<Figure size 432x288 with 1 Axes>"
            ],
            "image/png": "[encoded data removed]"
          },
          "metadata": {
            "needs_background": "light"
          }
        }
      ]
    },
    {
      "cell_type": "code",
      "source": [
        "len(X.columns)"
      ],
      "metadata": {
        "colab": {
          "base_uri": "https://localhost:8080/"
        },
        "id": "Sv6dNFfEJYOA",
        "outputId": "1509a22b-de60-4716-b7ca-6623a2527a67"
      },
      "execution_count": 6,
      "outputs": [
        {
          "output_type": "execute_result",
          "data": {
            "text/plain": [
              "63"
            ]
          },
          "metadata": {},
          "execution_count": 6
        }
      ]
    },
    {
      "cell_type": "code",
      "source": [
        "bestparams = pd.Series(model.feature_importances_, index=X.columns).nlargest(35).index.to_list()"
      ],
      "metadata": {
        "id": "CJRCl6AVJbDQ"
      },
      "execution_count": 17,
      "outputs": []
    },
    {
      "cell_type": "code",
      "source": [
        "X = dfct[bestparams]\n",
        "y = dfct['Persistency_Flag']"
      ],
      "metadata": {
        "id": "Cttuw49WKNcq"
      },
      "execution_count": 18,
      "outputs": []
    },
    {
      "cell_type": "code",
      "source": [
        "X_train, X_test, y_train, y_test =train_test_split(X, y, test_size=0.20, random_state=42)"
      ],
      "metadata": {
        "id": "mc-Zc5AEKiqK"
      },
      "execution_count": 19,
      "outputs": []
    },
    {
      "cell_type": "code",
      "source": [
        "cv = KFold(n_splits=5, shuffle=True)"
      ],
      "metadata": {
        "id": "cei7CRKqL6UN"
      },
      "execution_count": 32,
      "outputs": []
    },
    {
      "cell_type": "markdown",
      "source": [
        "# Models"
      ],
      "metadata": {
        "id": "YrnCsz37-Ynf"
      }
    },
    {
      "cell_type": "markdown",
      "source": [
        "## Dummy"
      ],
      "metadata": {
        "id": "nKoUbsB6fdn6"
      }
    },
    {
      "cell_type": "code",
      "source": [
        "from sklearn.dummy import DummyClassifier\n",
        "\n",
        "dummy_classifier = DummyClassifier(strategy=\"most_frequent\")\n",
        "\n",
        "dummy_classifier.fit(X_train, y_train)\n",
        "y_pred_dm= dummy_classifier.predict(X_test)\n",
        "\n",
        "accuracy_score(y_test, y_pred_dm)"
      ],
      "metadata": {
        "colab": {
          "base_uri": "https://localhost:8080/"
        },
        "id": "5tTUtxfcfdvV",
        "outputId": "d4cd4519-f895-41a2-879b-36b26dd77da8"
      },
      "execution_count": 102,
      "outputs": [
        {
          "output_type": "execute_result",
          "data": {
            "text/plain": [
              "0.7111486486486487"
            ]
          },
          "metadata": {},
          "execution_count": 102
        }
      ]
    },
    {
      "cell_type": "code",
      "source": [
        "print(classification_report(y_test, y_pred_dm))"
      ],
      "metadata": {
        "colab": {
          "base_uri": "https://localhost:8080/"
        },
        "outputId": "d834743c-eb72-4911-80a3-14ad38fdd235",
        "id": "D_qC6_yFfple"
      },
      "execution_count": 103,
      "outputs": [
        {
          "output_type": "stream",
          "name": "stdout",
          "text": [
            "              precision    recall  f1-score   support\n",
            "\n",
            "           0       0.71      1.00      0.83       421\n",
            "           1       0.00      0.00      0.00       171\n",
            "\n",
            "    accuracy                           0.71       592\n",
            "   macro avg       0.36      0.50      0.42       592\n",
            "weighted avg       0.51      0.71      0.59       592\n",
            "\n"
          ]
        },
        {
          "output_type": "stream",
          "name": "stderr",
          "text": [
            "/usr/local/lib/python3.7/dist-packages/sklearn/metrics/_classification.py:1318: UndefinedMetricWarning: Precision and F-score are ill-defined and being set to 0.0 in labels with no predicted samples. Use `zero_division` parameter to control this behavior.\n",
            "  _warn_prf(average, modifier, msg_start, len(result))\n",
            "/usr/local/lib/python3.7/dist-packages/sklearn/metrics/_classification.py:1318: UndefinedMetricWarning: Precision and F-score are ill-defined and being set to 0.0 in labels with no predicted samples. Use `zero_division` parameter to control this behavior.\n",
            "  _warn_prf(average, modifier, msg_start, len(result))\n",
            "/usr/local/lib/python3.7/dist-packages/sklearn/metrics/_classification.py:1318: UndefinedMetricWarning: Precision and F-score are ill-defined and being set to 0.0 in labels with no predicted samples. Use `zero_division` parameter to control this behavior.\n",
            "  _warn_prf(average, modifier, msg_start, len(result))\n"
          ]
        }
      ]
    },
    {
      "cell_type": "code",
      "source": [
        "_ = ConfusionMatrixDisplay.from_estimator(dummy_classifier, X_test, y_test)"
      ],
      "metadata": {
        "colab": {
          "base_uri": "https://localhost:8080/",
          "height": 279
        },
        "outputId": "f179aa0a-db39-4d2d-d1e1-c3b99ad4ec97",
        "id": "360NQu60fplg"
      },
      "execution_count": 104,
      "outputs": [
        {
          "output_type": "display_data",
          "data": {
            "text/plain": [
              "<Figure size 432x288 with 2 Axes>"
            ],
            "image/png": "[encoded data removed]"
          },
          "metadata": {
            "needs_background": "light"
          }
        }
      ]
    },
    {
      "cell_type": "markdown",
      "source": [
        "## Logistic Regression"
      ],
      "metadata": {
        "id": "1KTpmyQg-qhr"
      }
    },
    {
      "cell_type": "code",
      "source": [
        "from sklearn.linear_model import LogisticRegression\n",
        "\n",
        "lgr= LogisticRegression(solver=\"liblinear\")\n",
        "grid={\"C\":np.logspace(-3,3,7), \"penalty\":[\"l1\",\"l2\"]}\n",
        "\n",
        "n_iter_search = 30\n",
        "random_search = RandomizedSearchCV(lgr, param_distributions=grid,\n",
        "                                   n_iter=n_iter_search,n_jobs=-1, cv=cv)\n",
        "random_search.fit(X_train,y_train)\n",
        "bestp_lgr = random_search.best_params_"
      ],
      "metadata": {
        "colab": {
          "base_uri": "https://localhost:8080/"
        },
        "id": "pqTuahfy-Y3h",
        "outputId": "1a680733-c957-4750-a537-7bdd9648e1dc"
      },
      "execution_count": 36,
      "outputs": [
        {
          "output_type": "stream",
          "name": "stderr",
          "text": [
            "/usr/local/lib/python3.7/dist-packages/sklearn/model_selection/_search.py:296: UserWarning: The total space of parameters 14 is smaller than n_iter=30. Running 14 iterations. For exhaustive searches, use GridSearchCV.\n",
            "  UserWarning,\n"
          ]
        }
      ]
    },
    {
      "cell_type": "code",
      "source": [
        "lgr= LogisticRegression(solver=\"liblinear\", **bestp_lgr)\n",
        "lgr.fit(X_train, y_train)\n",
        "y_pred_lgr= lgr.predict(X_test)"
      ],
      "metadata": {
        "id": "NVOLtl_PMZVu"
      },
      "execution_count": 43,
      "outputs": []
    },
    {
      "cell_type": "code",
      "source": [
        "accuracy_score(y_test, y_pred_lgr)"
      ],
      "metadata": {
        "colab": {
          "base_uri": "https://localhost:8080/"
        },
        "id": "HfaqXvq1MZYZ",
        "outputId": "5304522c-2f8c-4600-896a-cec15462a470"
      },
      "execution_count": 46,
      "outputs": [
        {
          "output_type": "execute_result",
          "data": {
            "text/plain": [
              "0.7905405405405406"
            ]
          },
          "metadata": {},
          "execution_count": 46
        }
      ]
    },
    {
      "cell_type": "code",
      "source": [
        "print(classification_report(y_test, y_pred_lgr))"
      ],
      "metadata": {
        "colab": {
          "base_uri": "https://localhost:8080/"
        },
        "id": "KW996KkSLgBM",
        "outputId": "982b947b-3a2a-47ef-8a80-6a07cd314a98"
      },
      "execution_count": 47,
      "outputs": [
        {
          "output_type": "stream",
          "name": "stdout",
          "text": [
            "              precision    recall  f1-score   support\n",
            "\n",
            "           0       0.82      0.90      0.86       421\n",
            "           1       0.67      0.53      0.59       171\n",
            "\n",
            "    accuracy                           0.79       592\n",
            "   macro avg       0.75      0.71      0.73       592\n",
            "weighted avg       0.78      0.79      0.78       592\n",
            "\n"
          ]
        }
      ]
    },
    {
      "cell_type": "code",
      "source": [
        "_ = ConfusionMatrixDisplay.from_estimator(lgr, X_test, y_test)"
      ],
      "metadata": {
        "colab": {
          "base_uri": "https://localhost:8080/",
          "height": 279
        },
        "id": "iCeMzfxsd6yL",
        "outputId": "7b3b315d-e782-40a0-def0-8295e662c8a0"
      },
      "execution_count": 90,
      "outputs": [
        {
          "output_type": "display_data",
          "data": {
            "text/plain": [
              "<Figure size 432x288 with 2 Axes>"
            ],
            "image/png": "[encoded data removed]"
          },
          "metadata": {
            "needs_background": "light"
          }
        }
      ]
    },
    {
      "cell_type": "markdown",
      "source": [
        "## Support Vector Machine\n"
      ],
      "metadata": {
        "id": "hIuTNoFG-tjM"
      }
    },
    {
      "cell_type": "code",
      "source": [
        "from sklearn.svm import SVC\n",
        "\n",
        "svc= SVC()\n",
        "\n",
        "param_grid = {\"C\": np.arange(2, 10, 2),\n",
        "             \"gamma\": np.arange(0.1, 10, 0.2),\n",
        "              'kernel': ['linear', 'poly', 'rbf', 'sigmoid']}\n",
        "\n",
        "n_iter_search = 30\n",
        "random_search = RandomizedSearchCV(svc, param_distributions=param_grid,\n",
        "                                   n_iter=n_iter_search,n_jobs=-1, cv=cv)\n",
        "random_search.fit(X_train,y_train)\n",
        "bestp_svc = random_search.best_params_"
      ],
      "metadata": {
        "id": "uPv2ZNagOAPV"
      },
      "execution_count": 52,
      "outputs": []
    },
    {
      "cell_type": "code",
      "source": [
        "svc= SVC(**bestp_svc)\n",
        "svc.fit(X_train, y_train)\n",
        "y_pred_svc= svc.predict(X_test)"
      ],
      "metadata": {
        "id": "mNqPz00dOAPZ"
      },
      "execution_count": 53,
      "outputs": []
    },
    {
      "cell_type": "code",
      "source": [
        "accuracy_score(y_test, y_pred_svc)"
      ],
      "metadata": {
        "colab": {
          "base_uri": "https://localhost:8080/"
        },
        "outputId": "c812c6e4-3518-4b2c-802b-09885a76de39",
        "id": "G-nsBTQ3OAPa"
      },
      "execution_count": 54,
      "outputs": [
        {
          "output_type": "execute_result",
          "data": {
            "text/plain": [
              "0.8006756756756757"
            ]
          },
          "metadata": {},
          "execution_count": 54
        }
      ]
    },
    {
      "cell_type": "code",
      "source": [
        "print(classification_report(y_test, y_pred_svc))"
      ],
      "metadata": {
        "colab": {
          "base_uri": "https://localhost:8080/"
        },
        "outputId": "939195db-ecbb-486f-fe82-29520228af96",
        "id": "QjdZR5vnOAPb"
      },
      "execution_count": 55,
      "outputs": [
        {
          "output_type": "stream",
          "name": "stdout",
          "text": [
            "              precision    recall  f1-score   support\n",
            "\n",
            "           0       0.83      0.90      0.87       421\n",
            "           1       0.69      0.56      0.62       171\n",
            "\n",
            "    accuracy                           0.80       592\n",
            "   macro avg       0.76      0.73      0.74       592\n",
            "weighted avg       0.79      0.80      0.79       592\n",
            "\n"
          ]
        }
      ]
    },
    {
      "cell_type": "code",
      "source": [
        "_ = ConfusionMatrixDisplay.from_estimator(svc, X_test, y_test)"
      ],
      "metadata": {
        "colab": {
          "base_uri": "https://localhost:8080/",
          "height": 279
        },
        "id": "rafLUb8PeBsw",
        "outputId": "c45afe56-bda5-4b4a-83bc-23aca17e87d4"
      },
      "execution_count": 91,
      "outputs": [
        {
          "output_type": "display_data",
          "data": {
            "text/plain": [
              "<Figure size 432x288 with 2 Axes>"
            ],
            "image/png": "[encoded data removed]"
          },
          "metadata": {
            "needs_background": "light"
          }
        }
      ]
    },
    {
      "cell_type": "markdown",
      "source": [
        "## KNN"
      ],
      "metadata": {
        "id": "fJbkyPTgNZk_"
      }
    },
    {
      "cell_type": "code",
      "source": [
        "from sklearn.neighbors import KNeighborsClassifier\n",
        "\n",
        "knn = KNeighborsClassifier()\n",
        "k_range = list(range(1, 31))\n",
        "param_grid = dict(n_neighbors=k_range)\n",
        "\n",
        "n_iter_search = 30\n",
        "random_search = RandomizedSearchCV(knn, param_distributions=param_grid,\n",
        "                                   n_iter=n_iter_search,n_jobs=-1, cv=cv)\n",
        "random_search.fit(X_train,y_train)\n",
        "bestp_knn = random_search.best_params_"
      ],
      "metadata": {
        "id": "SB-F9YluP8tx"
      },
      "execution_count": 56,
      "outputs": []
    },
    {
      "cell_type": "code",
      "source": [
        "knn= KNeighborsClassifier(**bestp_knn)\n",
        "knn.fit(X_train, y_train)\n",
        "y_pred_knn= knn.predict(X_test)"
      ],
      "metadata": {
        "id": "YWQfcSzrP8uJ"
      },
      "execution_count": 58,
      "outputs": []
    },
    {
      "cell_type": "code",
      "source": [
        "accuracy_score(y_test, y_pred_knn)"
      ],
      "metadata": {
        "colab": {
          "base_uri": "https://localhost:8080/"
        },
        "outputId": "c6d7c3dc-c221-4118-d865-a6dd8d08dc68",
        "id": "z61JMJ18P8uJ"
      },
      "execution_count": 59,
      "outputs": [
        {
          "output_type": "execute_result",
          "data": {
            "text/plain": [
              "0.8023648648648649"
            ]
          },
          "metadata": {},
          "execution_count": 59
        }
      ]
    },
    {
      "cell_type": "code",
      "source": [
        "print(classification_report(y_test, y_pred_knn))"
      ],
      "metadata": {
        "colab": {
          "base_uri": "https://localhost:8080/"
        },
        "outputId": "cf61c5d4-e815-4557-8bec-10a8ffc82e0e",
        "id": "vmifIKz4P8uK"
      },
      "execution_count": 60,
      "outputs": [
        {
          "output_type": "stream",
          "name": "stdout",
          "text": [
            "              precision    recall  f1-score   support\n",
            "\n",
            "           0       0.80      0.95      0.87       421\n",
            "           1       0.79      0.43      0.56       171\n",
            "\n",
            "    accuracy                           0.80       592\n",
            "   macro avg       0.80      0.69      0.71       592\n",
            "weighted avg       0.80      0.80      0.78       592\n",
            "\n"
          ]
        }
      ]
    },
    {
      "cell_type": "code",
      "source": [
        "_ = ConfusionMatrixDisplay.from_estimator(knn, X_test, y_test)"
      ],
      "metadata": {
        "colab": {
          "base_uri": "https://localhost:8080/",
          "height": 282
        },
        "id": "u1VKQPuYeDzJ",
        "outputId": "b419842c-228d-40fc-c45a-93bd97eb978f"
      },
      "execution_count": 92,
      "outputs": [
        {
          "output_type": "display_data",
          "data": {
            "text/plain": [
              "<Figure size 432x288 with 2 Axes>"
            ],
            "image/png": "[encoded data removed]"
          },
          "metadata": {
            "needs_background": "light"
          }
        }
      ]
    },
    {
      "cell_type": "markdown",
      "source": [
        "## RandomForest"
      ],
      "metadata": {
        "id": "LkW2gvJ8NdqQ"
      }
    },
    {
      "cell_type": "code",
      "source": [
        "from sklearn.ensemble import RandomForestClassifier\n",
        "rf = RandomForestClassifier(n_estimators=50, n_jobs=2, random_state=0)\n",
        "rf.fit(X_train, y_train)\n",
        "y_pred_rf= knn.predict(X_test)"
      ],
      "metadata": {
        "id": "bRFd6EEjNdx7"
      },
      "execution_count": 61,
      "outputs": []
    },
    {
      "cell_type": "code",
      "source": [
        "accuracy_score(y_test, y_pred_rf)"
      ],
      "metadata": {
        "colab": {
          "base_uri": "https://localhost:8080/"
        },
        "outputId": "b7e44bcc-85a4-4891-d3a9-015117d9cc4b",
        "id": "rnIbhpEnS8tZ"
      },
      "execution_count": 62,
      "outputs": [
        {
          "output_type": "execute_result",
          "data": {
            "text/plain": [
              "0.8023648648648649"
            ]
          },
          "metadata": {},
          "execution_count": 62
        }
      ]
    },
    {
      "cell_type": "code",
      "source": [
        "print(classification_report(y_test, y_pred_rf))"
      ],
      "metadata": {
        "colab": {
          "base_uri": "https://localhost:8080/"
        },
        "outputId": "8c110696-3f58-4f59-d002-d645e0921158",
        "id": "Yt9tHdcTS8uH"
      },
      "execution_count": 63,
      "outputs": [
        {
          "output_type": "stream",
          "name": "stdout",
          "text": [
            "              precision    recall  f1-score   support\n",
            "\n",
            "           0       0.80      0.95      0.87       421\n",
            "           1       0.79      0.43      0.56       171\n",
            "\n",
            "    accuracy                           0.80       592\n",
            "   macro avg       0.80      0.69      0.71       592\n",
            "weighted avg       0.80      0.80      0.78       592\n",
            "\n"
          ]
        }
      ]
    },
    {
      "cell_type": "code",
      "source": [
        "_ = ConfusionMatrixDisplay.from_estimator(rf, X_test, y_test)"
      ],
      "metadata": {
        "colab": {
          "base_uri": "https://localhost:8080/",
          "height": 279
        },
        "id": "TgJX6dc5eFgF",
        "outputId": "559652ec-f000-4216-d884-6e4325430a02"
      },
      "execution_count": 93,
      "outputs": [
        {
          "output_type": "display_data",
          "data": {
            "text/plain": [
              "<Figure size 432x288 with 2 Axes>"
            ],
            "image/png": "[encoded data removed]"
          },
          "metadata": {
            "needs_background": "light"
          }
        }
      ]
    },
    {
      "cell_type": "markdown",
      "source": [
        "## SGDClassifier"
      ],
      "metadata": {
        "id": "GldHxxgxNjkt"
      }
    },
    {
      "cell_type": "code",
      "source": [
        "from sklearn.linear_model import SGDClassifier\n",
        "from sklearn.utils.fixes import loguniform\n",
        "import scipy.stats as stats\n",
        "\n",
        "clf = SGDClassifier(loss='hinge',fit_intercept=True)\n",
        "param_dist = {'average': [True, False],\n",
        "              'l1_ratio': stats.uniform(0, 1),\n",
        "              'alpha': loguniform(1e-4, 1e0)}\n",
        "\n",
        "n_iter_search = 30\n",
        "random_search = RandomizedSearchCV(clf, param_distributions=param_dist,\n",
        "                                   n_iter=n_iter_search,n_jobs=-1, cv=cv)\n",
        "random_search.fit(X_train,y_train)\n",
        "bestp_clf = random_search.best_params_"
      ],
      "metadata": {
        "id": "UfkG9R1-TZz7"
      },
      "execution_count": 64,
      "outputs": []
    },
    {
      "cell_type": "code",
      "source": [
        "clf = SGDClassifier(**bestp_clf)\n",
        "clf.fit(X_train, y_train)\n",
        "y_pred_clf= clf.predict(X_test)"
      ],
      "metadata": {
        "id": "QgacxJS2TZz-"
      },
      "execution_count": 66,
      "outputs": []
    },
    {
      "cell_type": "code",
      "source": [
        "accuracy_score(y_test, y_pred_clf)"
      ],
      "metadata": {
        "colab": {
          "base_uri": "https://localhost:8080/"
        },
        "outputId": "baf0c30d-d6ea-49ce-bbe0-a33093090fed",
        "id": "cDjdWiP5TZz_"
      },
      "execution_count": 67,
      "outputs": [
        {
          "output_type": "execute_result",
          "data": {
            "text/plain": [
              "0.785472972972973"
            ]
          },
          "metadata": {},
          "execution_count": 67
        }
      ]
    },
    {
      "cell_type": "code",
      "source": [
        "print(classification_report(y_test, y_pred_clf))"
      ],
      "metadata": {
        "colab": {
          "base_uri": "https://localhost:8080/"
        },
        "outputId": "1995d828-9c44-4f61-f7c9-7de2adf25a02",
        "id": "i4kv_h2KTZ0B"
      },
      "execution_count": 68,
      "outputs": [
        {
          "output_type": "stream",
          "name": "stdout",
          "text": [
            "              precision    recall  f1-score   support\n",
            "\n",
            "           0       0.82      0.89      0.85       421\n",
            "           1       0.66      0.53      0.59       171\n",
            "\n",
            "    accuracy                           0.79       592\n",
            "   macro avg       0.74      0.71      0.72       592\n",
            "weighted avg       0.78      0.79      0.78       592\n",
            "\n"
          ]
        }
      ]
    },
    {
      "cell_type": "code",
      "source": [
        "_ = ConfusionMatrixDisplay.from_estimator(clf, X_test, y_test)"
      ],
      "metadata": {
        "colab": {
          "base_uri": "https://localhost:8080/",
          "height": 279
        },
        "id": "W3VqXCcLeIni",
        "outputId": "76e0c8ec-040d-424e-9ccf-e273aa0c98d0"
      },
      "execution_count": 94,
      "outputs": [
        {
          "output_type": "display_data",
          "data": {
            "text/plain": [
              "<Figure size 432x288 with 2 Axes>"
            ],
            "image/png": "[encoded data removed]"
          },
          "metadata": {
            "needs_background": "light"
          }
        }
      ]
    },
    {
      "cell_type": "markdown",
      "source": [
        "## Hist Gradient Boosting"
      ],
      "metadata": {
        "id": "suu-lNHcNqcP"
      }
    },
    {
      "cell_type": "code",
      "source": [
        "HistGradientBoostingClassifier.get_params().keys()"
      ],
      "metadata": {
        "colab": {
          "base_uri": "https://localhost:8080/"
        },
        "id": "rHDqTjhzWcak",
        "outputId": "b607ecc8-1dac-4dc7-b267-69164eafd176"
      },
      "execution_count": 79,
      "outputs": [
        {
          "output_type": "execute_result",
          "data": {
            "text/plain": [
              "dict_keys(['categorical_features', 'early_stopping', 'l2_regularization', 'learning_rate', 'loss', 'max_bins', 'max_depth', 'max_iter', 'max_leaf_nodes', 'min_samples_leaf', 'monotonic_cst', 'n_iter_no_change', 'random_state', 'scoring', 'tol', 'validation_fraction', 'verbose', 'warm_start'])"
            ]
          },
          "metadata": {},
          "execution_count": 79
        }
      ]
    },
    {
      "cell_type": "code",
      "source": [
        "from sklearn.ensemble import HistGradientBoostingClassifier\n",
        "\n",
        "histogram_gradient_boosting = HistGradientBoostingClassifier()\n",
        "\n",
        "parameters = {\n",
        " 'max_iter': [1000,1200,1500],\n",
        " 'learning_rate': [0.1,0.001,1],\n",
        " 'max_depth' : [15, 25, 50, 75],\n",
        " 'l2_regularization': [0,1.5],\n",
        " 'scoring': ['f1_micro'],\n",
        " }\n",
        "\n",
        "hgb_grid = GridSearchCV(histogram_gradient_boosting, parameters, n_jobs=-1, \n",
        " cv=cv, verbose=2, refit=True)\n",
        " \n",
        "hgb_grid.fit(X_train, y_train)\n",
        "\n",
        "bestp_hg = hgb_grid.best_params_"
      ],
      "metadata": {
        "colab": {
          "base_uri": "https://localhost:8080/"
        },
        "id": "qaUJUvhcNrOU",
        "outputId": "8f333733-92c0-47f0-a373-77d1cbe807ca"
      },
      "execution_count": 81,
      "outputs": [
        {
          "output_type": "stream",
          "name": "stdout",
          "text": [
            "Fitting 5 folds for each of 72 candidates, totalling 360 fits\n"
          ]
        }
      ]
    },
    {
      "cell_type": "code",
      "source": [
        "hgb_grid = HistGradientBoostingClassifier(**bestp_hg)\n",
        "hgb_grid.fit(X_train, y_train)\n",
        "y_pred_histogram_gradient_boosting= hgb_grid.predict(X_test)"
      ],
      "metadata": {
        "id": "2oCGo8pDVNqn"
      },
      "execution_count": 82,
      "outputs": []
    },
    {
      "cell_type": "code",
      "source": [
        "accuracy_score(y_test, y_pred_histogram_gradient_boosting)"
      ],
      "metadata": {
        "colab": {
          "base_uri": "https://localhost:8080/"
        },
        "outputId": "a5dd5605-4298-4b5b-b7f3-53fba2291e89",
        "id": "1sB2t1lxUdFk"
      },
      "execution_count": 83,
      "outputs": [
        {
          "output_type": "execute_result",
          "data": {
            "text/plain": [
              "0.7956081081081081"
            ]
          },
          "metadata": {},
          "execution_count": 83
        }
      ]
    },
    {
      "cell_type": "code",
      "source": [
        "print(classification_report(y_test, y_pred_rf))"
      ],
      "metadata": {
        "colab": {
          "base_uri": "https://localhost:8080/"
        },
        "outputId": "2be97cc8-db27-40c9-89d0-89f066c99499",
        "id": "VuOTM_-EUdGD"
      },
      "execution_count": 84,
      "outputs": [
        {
          "output_type": "stream",
          "name": "stdout",
          "text": [
            "              precision    recall  f1-score   support\n",
            "\n",
            "           0       0.80      0.95      0.87       421\n",
            "           1       0.79      0.43      0.56       171\n",
            "\n",
            "    accuracy                           0.80       592\n",
            "   macro avg       0.80      0.69      0.71       592\n",
            "weighted avg       0.80      0.80      0.78       592\n",
            "\n"
          ]
        }
      ]
    },
    {
      "cell_type": "code",
      "source": [
        "_ = ConfusionMatrixDisplay.from_estimator(hgb_grid, X_test, y_test)"
      ],
      "metadata": {
        "colab": {
          "base_uri": "https://localhost:8080/",
          "height": 279
        },
        "id": "a8jl3M2peLIl",
        "outputId": "12fe4dee-b089-49a0-e619-9a414c17882a"
      },
      "execution_count": 95,
      "outputs": [
        {
          "output_type": "display_data",
          "data": {
            "text/plain": [
              "<Figure size 432x288 with 2 Axes>"
            ],
            "image/png": "[encoded data removed]"
          },
          "metadata": {
            "needs_background": "light"
          }
        }
      ]
    },
    {
      "cell_type": "markdown",
      "source": [
        "# Best Model"
      ],
      "metadata": {
        "id": "xuB7oaXtNtk_"
      }
    },
    {
      "cell_type": "code",
      "source": [
        "models=[lgr, knn, svc, rf, clf, hgb_grid]"
      ],
      "metadata": {
        "id": "KCtI1tAhXevz"
      },
      "execution_count": 85,
      "outputs": []
    },
    {
      "cell_type": "code",
      "source": [
        "results = pd.DataFrame()   \n",
        "results.empty\n",
        "\n",
        "for model in models:\n",
        "    names=model.__class__.__name__\n",
        "    y_pred=model.predict(X_test)\n",
        "    accuracy=accuracy_score(y_test, y_pred)\n",
        "    result=pd.DataFrame([[names, accuracy*100]], columns=[\"models\", \"accuracy\"])\n",
        "    results=results.append(result)"
      ],
      "metadata": {
        "id": "T6u8qskxNtvH"
      },
      "execution_count": 97,
      "outputs": []
    },
    {
      "cell_type": "code",
      "source": [
        "sns.barplot(\"accuracy\", \"models\", data=results, color=\"b\")\n",
        "plt.xlabel(\"Accuracy\")\n",
        "plt.title(\"Comparison of Models\")"
      ],
      "metadata": {
        "colab": {
          "base_uri": "https://localhost:8080/",
          "height": 367
        },
        "id": "u17qNbCfNtya",
        "outputId": "a31cb1e7-7210-474b-d1dd-4ac78a32272d"
      },
      "execution_count": 98,
      "outputs": [
        {
          "output_type": "stream",
          "name": "stderr",
          "text": [
            "/usr/local/lib/python3.7/dist-packages/seaborn/_decorators.py:43: FutureWarning: Pass the following variables as keyword args: x, y. From version 0.12, the only valid positional argument will be `data`, and passing other arguments without an explicit keyword will result in an error or misinterpretation.\n",
            "  FutureWarning\n"
          ]
        },
        {
          "output_type": "execute_result",
          "data": {
            "text/plain": [
              "Text(0.5, 1.0, 'Comparison of Models')"
            ]
          },
          "metadata": {},
          "execution_count": 98
        },
        {
          "output_type": "display_data",
          "data": {
            "text/plain": [
              "<Figure size 432x288 with 1 Axes>"
            ],
            "image/png": "[encoded data removed]"
          },
          "metadata": {
            "needs_background": "light"
          }
        }
      ]
    },
    {
      "cell_type": "markdown",
      "source": [
        "# Metrics"
      ],
      "metadata": {
        "id": "t_8c_HtKXqtj"
      }
    },
    {
      "cell_type": "markdown",
      "source": [
        "## ROC"
      ],
      "metadata": {
        "id": "0ZSSvmIXZe4E"
      }
    },
    {
      "cell_type": "code",
      "source": [
        "from sklearn.metrics import RocCurveDisplay\n",
        "from sklearn.metrics import roc_curve, roc_auc_score\n",
        "\n",
        "disp = RocCurveDisplay.from_estimator(\n",
        "    dummy_classifier, X_test, y_test, pos_label=1,\n",
        "    marker=\"+\")\n",
        "disp = RocCurveDisplay.from_estimator(\n",
        "    lgr, X_test, y_test, pos_label=1,\n",
        "    color=\"tab:orange\", linestyle=\"--\", ax=disp.ax_)\n",
        "disp = RocCurveDisplay.from_estimator(\n",
        "    knn, X_test, y_test, pos_label=1,\n",
        "    color=\"tab:green\", linestyle=\"--\", ax=disp.ax_)\n",
        "disp = RocCurveDisplay.from_estimator(\n",
        "    svc, X_test, y_test, pos_label=1,\n",
        "    color=\"tab:red\", linestyle=\"--\", ax=disp.ax_)\n",
        "disp = RocCurveDisplay.from_estimator(\n",
        "    rf, X_test, y_test, pos_label=1,\n",
        "    color=\"tab:blue\", linestyle=\"--\", ax=disp.ax_)\n",
        "disp = RocCurveDisplay.from_estimator(\n",
        "    clf, X_test, y_test, pos_label=1,\n",
        "    color=\"tab:cyan\", linestyle=\"--\", ax=disp.ax_)\n",
        "disp = RocCurveDisplay.from_estimator(\n",
        "    hgb_grid, X_test, y_test, pos_label=1,\n",
        "    color=\"tab:purple\", linestyle=\"--\", ax=disp.ax_)\n",
        "\n",
        "plt.legend(bbox_to_anchor=(1.05, 0.8), loc=\"upper left\")\n",
        "_ = disp.ax_.set_title(\"ROC AUC curve\")"
      ],
      "metadata": {
        "colab": {
          "base_uri": "https://localhost:8080/",
          "height": 312
        },
        "id": "kZWE1xkHX1AA",
        "outputId": "644d3b45-0e1b-4ec3-9ed1-1ace7991283b"
      },
      "execution_count": 111,
      "outputs": [
        {
          "output_type": "display_data",
          "data": {
            "text/plain": [
              "<Figure size 1080x720 with 0 Axes>"
            ]
          },
          "metadata": {}
        },
        {
          "output_type": "display_data",
          "data": {
            "text/plain": [
              "<Figure size 432x288 with 1 Axes>"
            ],
            "image/png": "[encoded data removed]"
          },
          "metadata": {
            "needs_background": "light"
          }
        }
      ]
    },
    {
      "cell_type": "markdown",
      "source": [
        "## Recall"
      ],
      "metadata": {
        "id": "5HAgV9jGZho8"
      }
    },
    {
      "cell_type": "code",
      "source": [
        "from sklearn.metrics import PrecisionRecallDisplay\n",
        "from sklearn.metrics import precision_score, recall_score\n",
        "\n",
        "disp = PrecisionRecallDisplay.from_estimator(\n",
        "    dummy_classifier, X_test, y_test, pos_label=1,\n",
        "    marker=\"+\")\n",
        "disp = PrecisionRecallDisplay.from_estimator(\n",
        "    lgr, X_test, y_test, pos_label=1,\n",
        "    color=\"tab:orange\", linestyle=\"--\", ax=disp.ax_)\n",
        "disp = PrecisionRecallDisplay.from_estimator(\n",
        "    knn, X_test, y_test, pos_label=1,\n",
        "    color=\"tab:green\", linestyle=\"--\", ax=disp.ax_)\n",
        "disp = PrecisionRecallDisplay.from_estimator(\n",
        "    svc, X_test, y_test, pos_label=1,\n",
        "    color=\"tab:red\", linestyle=\"--\", ax=disp.ax_)\n",
        "disp = PrecisionRecallDisplay.from_estimator(\n",
        "    rf, X_test, y_test, pos_label=1,\n",
        "    color=\"tab:blue\", linestyle=\"--\", ax=disp.ax_)\n",
        "disp = PrecisionRecallDisplay.from_estimator(\n",
        "    clf, X_test, y_test, pos_label=1,\n",
        "    color=\"tab:cyan\", linestyle=\"--\", ax=disp.ax_)\n",
        "disp = PrecisionRecallDisplay.from_estimator(\n",
        "    hgb_grid, X_test, y_test, pos_label=1,\n",
        "    color=\"tab:purple\", linestyle=\"--\", ax=disp.ax_)\n",
        "\n",
        "\n",
        "plt.legend(bbox_to_anchor=(1.05, 0.8), loc=\"upper left\")\n",
        "_ = disp.ax_.set_title(\"Precision-recall curve\")"
      ],
      "metadata": {
        "colab": {
          "base_uri": "https://localhost:8080/",
          "height": 295
        },
        "id": "KDW9wA4LYGcY",
        "outputId": "50d31004-001b-401f-fa2b-65d6c56090ef"
      },
      "execution_count": 112,
      "outputs": [
        {
          "output_type": "display_data",
          "data": {
            "text/plain": [
              "<Figure size 432x288 with 1 Axes>"
            ],
            "image/png": "[encoded data removed]"
          },
          "metadata": {
            "needs_background": "light"
          }
        }
      ]
    },
    {
      "cell_type": "markdown",
      "source": [
        "END!"
      ],
      "metadata": {
        "id": "7ThXqKz4iFM-"
      }
    }
  ]
}